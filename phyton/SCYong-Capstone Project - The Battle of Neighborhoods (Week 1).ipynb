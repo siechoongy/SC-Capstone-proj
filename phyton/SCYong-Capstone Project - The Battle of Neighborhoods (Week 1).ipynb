{
 "cells": [
  {
   "cell_type": "markdown",
   "metadata": {},
   "source": [
    "For part 1 of the assigment, I have chosen to compare Toronto against New York City.\n",
    "\n",
    "Toronto, city, capital of the province of Ontario, southeastern Canada. \n",
    "Similar to New York, it is the most populous city in Canada, a multicultural city, and the country’s financial and commercial centre.\n",
    "Thus, it is a good location to run a restaurant or even start up a business. It's high population and the diversity of people, there is likely demand for service."
   ]
  },
  {
   "cell_type": "markdown",
   "metadata": {},
   "source": [
    "Using Foursquare data, we could look at the venues setup in Toronto and compare against the venues available in New York City. It could give us an idea if Toronto, Ontario may offers someplace similar should one ever want to move their business over to Toronto."
   ]
  },
  {
   "cell_type": "markdown",
   "metadata": {},
   "source": [
    "Considering one is interested to open a restaurant. We could further segment the foursquare data to provide more detail analysis. For example:\n",
    "a. The types of restaurant/cafes that are currently available within each neighbourhood\n",
    "b. What are the popular restaurants (that receives good reviews or likes by customer), and their location.\n",
    "\n",
    "As a newly startup restaurant, the above would provide good marketing information. \n",
    "a. One could use to select a good location. E.g. To avoid stiff competition should there have been many similar restaurant (e.g. chinese cuisine or thai food) that are already running within a neighbourhood in close promixity.\n",
    "\n",
    "b. Depending on the type of business, it could good or bad option to setup your new restaurant close to the popular one. A popular eatery would surely attract crowds and this may indirect benefit to your new restaurant. In contrast, it would be a bad idea should your new business happens to be a competitor to the current popular eatery. Hence, one shall avoid setting the business in close proximity."
   ]
  },
  {
   "cell_type": "markdown",
   "metadata": {},
   "source": [
    "Learning from Week 3 assignment, this could be achieved by following high level analysis:\n",
    "    a. Locate Web sites offering Zip and or Postal Code information that can be readily scraped.\n",
    "    b. To use python's beautifulsoup library to extract postal code list, to derive the associated neighbourhood.\n",
    "    c. Then, we get the geographical coordinates (latitude and longitude) to query the Foursquare API database.\n",
    "    d. Using Forsquare API, we could get the relevant top venues that are within a radius of a pre-determine distance. \n",
    "    e. From there on, to further segment the venue data for further analysis and study."
   ]
  }
 ],
 "metadata": {
  "kernelspec": {
   "display_name": "Python",
   "language": "python",
   "name": "conda-env-python-py"
  },
  "language_info": {
   "codemirror_mode": {
    "name": "ipython",
    "version": 3
   },
   "file_extension": ".py",
   "mimetype": "text/x-python",
   "name": "python",
   "nbconvert_exporter": "python",
   "pygments_lexer": "ipython3",
   "version": "3.6.12"
  }
 },
 "nbformat": 4,
 "nbformat_minor": 4
}
