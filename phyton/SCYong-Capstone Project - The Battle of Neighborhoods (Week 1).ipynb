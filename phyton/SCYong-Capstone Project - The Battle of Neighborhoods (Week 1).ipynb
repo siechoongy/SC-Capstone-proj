{
 "cells": [
  {
   "cell_type": "markdown",
   "metadata": {},
   "source": [
    "For part 1 of the assigment, I have chosen to use Toronto, Ontario, Canada for my project. \n"
   ]
  },
  {
   "cell_type": "markdown",
   "metadata": {},
   "source": [
    "# **Description & Dicussion of the Background**\n",
    "\n",
    "Toronto, city, capital of the province of Ontario, southeastern Canada. \n",
    "Similar to New York, it is the most populous city in Canada, with approximately 6.2 millions of people. \n",
    "It is a multicultural city, and the country’s financial and commercial centre.\n",
    "\n",
    "Considering the high population and diversity of people, Toronto is a good location for one to start a cafe/restaurant here. There is always demand for food and beverages.\n"
   ]
  },
  {
   "cell_type": "markdown",
   "metadata": {},
   "source": [
    "# **Business problem**\n",
    "\n",
    "The underlying business problem is to perform an analysis of the neighbourhood, to identify a few locations for setting up a restaurant. Location is one of the important factor in F&B business. Therefore, Foursquare data would provide some information that helps our analysis.\n"
   ]
  },
  {
   "cell_type": "markdown",
   "metadata": {},
   "source": [
    "# **Data Description**\n",
    "\n",
    "Using Foursquare data, we could look at the venues setup in Toronto.\n",
    "We could further segment the data to provide more detail analysis. For example: the types of restaurant/cafes that are currently available within each neighbourhood, one could be aware what kind of competitions that currently exists within the neighbourhood. As such, one could pick a location not within close proximity to them.\n",
    "\n",
    "Apart from the above, we could also have a look at what type of business activities (venues) that exists within a neighbourhood. Whether there would be sufficient crowd or customer volume to sustain the newly setup business.\n",
    "\n"
   ]
  },
  {
   "cell_type": "markdown",
   "metadata": {},
   "source": [
    "Learning from Week 3 assignment, this could be achieved by following high level analysis:  \n",
    " 1. Locate Web sites offering Zip and or Postal Code information that can be readily scraped.\n",
    " 2. To use python's beautifulsoup library to extract postal code list, to derive the associated neighbourhood.\n",
    " 3. Then, we get the geographical coordinates (latitude and longitude) to query the Foursquare API database.\n",
    " 4. Using Forsquare API, we could get the relevant top venues that are within a radius of a pre-determine distance. \n",
    " 5. From there on, to further segment the venue data for further analysis and study.\n",
    " \n",
    "    \n",
    "    \n",
    "    \n",
    "    "
   ]
  },
  {
   "cell_type": "code",
   "execution_count": null,
   "metadata": {},
   "outputs": [],
   "source": []
  }
 ],
 "metadata": {
  "kernelspec": {
   "display_name": "Python",
   "language": "python",
   "name": "conda-env-python-py"
  },
  "language_info": {
   "codemirror_mode": {
    "name": "ipython",
    "version": 3
   },
   "file_extension": ".py",
   "mimetype": "text/x-python",
   "name": "python",
   "nbconvert_exporter": "python",
   "pygments_lexer": "ipython3",
   "version": "3.6.12"
  }
 },
 "nbformat": 4,
 "nbformat_minor": 4
}
